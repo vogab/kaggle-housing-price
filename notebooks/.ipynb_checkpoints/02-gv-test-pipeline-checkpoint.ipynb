{
 "cells": [
  {
   "cell_type": "code",
   "execution_count": 18,
   "id": "04fc263b-3669-4c9e-a071-59e66ebbc0f8",
   "metadata": {},
   "outputs": [
    {
     "name": "stdout",
     "output_type": "stream",
     "text": [
      "The autoreload extension is already loaded. To reload it, use:\n",
      "  %reload_ext autoreload\n"
     ]
    }
   ],
   "source": [
    "#needed to autoreload my functions\n",
    "%load_ext autoreload\n",
    "\n",
    "# import tensorflow_decision_forests as tfdf\n",
    "import pandas as pd\n",
    "import seaborn as sns\n",
    "import matplotlib.pyplot as plt\n",
    "import numpy as np\n",
    "from sklearn.linear_model import LinearRegression\n",
    "from sklearn.model_selection import train_test_split\n",
    "from sklearn.metrics import mean_squared_error, r2_score\n",
    "import scipy as sp\n",
    "## dont want warnings for final version\n",
    "#import warnings\n",
    "#warnings.filterwarnings(\"ignore\")\n",
    "\n",
    "#add this for auto reload my cuystom scripts\n",
    "import sys\n",
    "sys.path.append(\"..\") ## to find my own libraries in src folder\n",
    "# below I use param 1 to only reload funciton selected via %aimport. param 2 would reload everything\n",
    "%autoreload 1\n",
    "%aimport src.processing_functions\n",
    "%aimport src.my_utils\n",
    "from src import processing_functions as pf\n",
    "from src import my_utils as mut\n",
    "\n"
   ]
  },
  {
   "cell_type": "code",
   "execution_count": null,
   "id": "c8d23dd5-7d8f-40b2-8c63-3251608d7eab",
   "metadata": {},
   "outputs": [],
   "source": []
  },
  {
   "cell_type": "code",
   "execution_count": 3,
   "id": "c33b8a2f-309d-4743-bbc8-301b4e2b6b02",
   "metadata": {},
   "outputs": [
    {
     "name": "stdout",
     "output_type": "stream",
     "text": [
      "(1460, 81)\n",
      "(1459, 80)\n"
     ]
    }
   ],
   "source": [
    "\n",
    "train = pd.read_csv(\"../data/raw/train.csv\")\n",
    "test = pd.read_csv(\"../data/raw/test.csv\")\n",
    "print(train.shape)\n",
    "print(test.shape)\n"
   ]
  },
  {
   "cell_type": "code",
   "execution_count": 4,
   "id": "6b58e235-d8fc-49e7-9dce-c8f663d575c2",
   "metadata": {},
   "outputs": [
    {
     "name": "stdout",
     "output_type": "stream",
     "text": [
      "(1460, 80)\n",
      "(1459, 79)\n"
     ]
    }
   ],
   "source": [
    "#Save the 'Id' column\n",
    "train_ID = train['Id']\n",
    "test_ID = test['Id']\n",
    "\n",
    "# remove Id col for further preprocessing\n",
    "train_noid=train.drop('Id',axis=1)\n",
    "test_noid=test.drop('Id',axis=1)\n",
    "\n",
    "print(train_noid.shape)\n",
    "print(test_noid.shape)"
   ]
  },
  {
   "cell_type": "code",
   "execution_count": 5,
   "id": "2d9cfbce-dbf9-4cea-b122-7d781956d946",
   "metadata": {},
   "outputs": [
    {
     "data": {
      "text/plain": [
       "(2919, 80)"
      ]
     },
     "execution_count": 5,
     "metadata": {},
     "output_type": "execute_result"
    }
   ],
   "source": [
    "# lets also combine train and test for preprocessing\n",
    "train_nodv=train_noid.drop(columns=[\"SalePrice\"])#remove dv to concatenate\n",
    "# put dv aside\n",
    "y=train[\"SalePrice\"]\n",
    "# add info about the original set to which data belongs\n",
    "tmp_train=train_nodv.copy()\n",
    "tmp_train[\"set_id\"]=\"train\"\n",
    "tmp_test=test_noid.copy()\n",
    "tmp_test[\"set_id\"]=\"test\"\n",
    "all_data=pd.concat([tmp_train,tmp_test])\n",
    "\n",
    "all_data.shape"
   ]
  },
  {
   "cell_type": "markdown",
   "id": "ae22e8f4-7fb2-4bc6-87e4-d4e8fbfe1f61",
   "metadata": {},
   "source": [
    "# test pipeline"
   ]
  },
  {
   "cell_type": "code",
   "execution_count": null,
   "id": "733fdacc-2996-4c27-8fe3-ccba15b0b504",
   "metadata": {},
   "outputs": [],
   "source": []
  },
  {
   "cell_type": "code",
   "execution_count": 52,
   "id": "a7a6d7b6-b6a1-4a4c-b001-919784a47e19",
   "metadata": {},
   "outputs": [
    {
     "name": "stdout",
     "output_type": "stream",
     "text": [
      "shape before  (2919, 80)\n",
      "0       train\n",
      "1       train\n",
      "2       train\n",
      "3       train\n",
      "4       train\n",
      "        ...  \n",
      "1454     test\n",
      "1455     test\n",
      "1456     test\n",
      "1457     test\n",
      "1458     test\n",
      "Name: set_id, Length: 2917, dtype: object\n"
     ]
    },
    {
     "data": {
      "text/plain": [
       "(2917, 220)"
      ]
     },
     "execution_count": 52,
     "metadata": {},
     "output_type": "execute_result"
    }
   ],
   "source": [
    "# the pipeline\n",
    "#1.fill nas\n",
    "print(\"shape before \",all_data.shape)\n",
    "tmp=pf.fill_false_nas(all_data)\n",
    "tmp=pf.fill_true_nas(tmp)\n",
    "# 2. remove outliers\n",
    "tmp=pf.remove_outliers_picked(tmp,y)\n",
    "# 3.normalize num cols\n",
    "tmp=pf.normalize_min_max(tmp)\n",
    "# 4. transform distribution of num features\n",
    "tmp=pf.transform_distribution_features_simple(tmp)\n",
    "#5. deal with categorical variables\n",
    "tmp=pf.label_encoding_subset(tmp)\n",
    "print(tmp[\"set_id\"])\n",
    "tmp=pf.one_hot_encoding(tmp)\n",
    "tmp.shape"
   ]
  },
  {
   "cell_type": "code",
   "execution_count": 43,
   "id": "80561dad-9d89-4df5-992c-35befa76883d",
   "metadata": {},
   "outputs": [
    {
     "data": {
      "text/plain": [
       "int32      185\n",
       "float64     32\n",
       "int64        4\n",
       "Name: count, dtype: int64"
      ]
     },
     "execution_count": 43,
     "metadata": {},
     "output_type": "execute_result"
    }
   ],
   "source": [
    "data_types_summary = tmp.dtypes.value_counts()\n",
    "data_types_summary"
   ]
  },
  {
   "cell_type": "code",
   "execution_count": 49,
   "id": "b3fb494e-d5b8-44d1-bf72-bae6c40272ed",
   "metadata": {},
   "outputs": [
    {
     "name": "stdout",
     "output_type": "stream",
     "text": [
      "Columns with 'none' in their name:\n",
      "Index(['Neighborhood_NoRidge', 'Condition1_Norm', 'Condition2_Norm',\n",
      "       'MasVnrType_None', 'GarageType_None', 'MiscFeature_None',\n",
      "       'SaleCondition_Abnorml', 'SaleCondition_Normal'],\n",
      "      dtype='object')\n"
     ]
    }
   ],
   "source": [
    "#Filter columns with \"none\" in their name (case insensitive)\n",
    "columns_with_none = tmp.filter(regex='(?i)(none|no)')\n",
    "\n",
    "print(\"Columns with 'none' in their name:\")\n",
    "print(columns_with_none.columns)"
   ]
  },
  {
   "cell_type": "code",
   "execution_count": null,
   "id": "4694f1b3-104b-4fae-91c5-cedde1b3a55d",
   "metadata": {},
   "outputs": [],
   "source": [
    "#\n",
    "numeric_cols=train.select_dtypes(\"number\").columns\n",
    "def scatter_plot(x, y, **kwargs):\n",
    "    sns.scatterplot(x=x, y=y)\n",
    "    #x=plt.xticks(rotation=90)\n",
    "f = pd.melt(train, id_vars=['SalePrice'], value_vars=numeric_cols)\n",
    "g = sns.FacetGrid(f, col=\"variable\",  col_wrap=2, sharex=False, sharey=False,height=6,aspect=1)\n",
    "g = g.map(scatter_plot, \"value\", \"SalePrice\")"
   ]
  },
  {
   "cell_type": "markdown",
   "id": "3c18832b-ac46-4861-93c8-994a0d123212",
   "metadata": {},
   "source": [
    "try with sk learn"
   ]
  },
  {
   "cell_type": "code",
   "execution_count": 23,
   "id": "f328e58e-c07f-405f-995a-e4ab4f55499d",
   "metadata": {},
   "outputs": [],
   "source": [
    "from sklearn.pipeline import Pipeline"
   ]
  },
  {
   "cell_type": "code",
   "execution_count": null,
   "id": "0a24e18b-377d-4c15-8266-0a5d46707a2e",
   "metadata": {},
   "outputs": [],
   "source": [
    "common"
   ]
  },
  {
   "cell_type": "code",
   "execution_count": null,
   "id": "e442a480-35bb-4af3-bf6b-9c7483da6363",
   "metadata": {},
   "outputs": [],
   "source": [
    "pipeline=Pipeline(steps=[\n",
    "    \n",
    "])"
   ]
  }
 ],
 "metadata": {
  "kernelspec": {
   "display_name": "Python 3 (ipykernel)",
   "language": "python",
   "name": "python3"
  },
  "language_info": {
   "codemirror_mode": {
    "name": "ipython",
    "version": 3
   },
   "file_extension": ".py",
   "mimetype": "text/x-python",
   "name": "python",
   "nbconvert_exporter": "python",
   "pygments_lexer": "ipython3",
   "version": "3.11.7"
  }
 },
 "nbformat": 4,
 "nbformat_minor": 5
}

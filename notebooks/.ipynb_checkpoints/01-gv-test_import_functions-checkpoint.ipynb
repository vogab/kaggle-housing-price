{
 "cells": [
  {
   "cell_type": "code",
   "execution_count": 1,
   "id": "7ba3f28c-3971-457b-b0d2-7f68eccc9bf6",
   "metadata": {},
   "outputs": [],
   "source": [
    "#needed to autoreload my functions\n",
    "%load_ext autoreload"
   ]
  },
  {
   "cell_type": "code",
   "execution_count": 2,
   "id": "065e888e-3257-4554-ad19-154b60c98649",
   "metadata": {},
   "outputs": [],
   "source": [
    "import sys\n",
    "import os\n",
    "\n",
    "#add this for auto reload my cuystom scripts\n",
    "sys.path.append(\"..\") ## to find my own libraries in src folder\n",
    "# below I use param 1 to only reload funciton selected via %aimport. param 2 would reload everything\n",
    "%autoreload 1\n",
    "%aimport src.my_functions_test\n",
    "from src import my_functions_test as mf\n",
    "\n"
   ]
  },
  {
   "cell_type": "code",
   "execution_count": null,
   "id": "6793c168-08d6-4a20-b26f-2c53bdd32c42",
   "metadata": {},
   "outputs": [],
   "source": []
  },
  {
   "cell_type": "code",
   "execution_count": null,
   "id": "4c1543b4-ed80-422f-93ab-8d7d5ac7d164",
   "metadata": {},
   "outputs": [],
   "source": [
    "mf.my_addition(1,3)"
   ]
  },
  {
   "cell_type": "code",
   "execution_count": null,
   "id": "a3f4fdfc-e708-4e74-8e5b-bd24cd37719f",
   "metadata": {},
   "outputs": [],
   "source": [
    "mf.my_substraction(1,3)"
   ]
  },
  {
   "cell_type": "code",
   "execution_count": null,
   "id": "75e34979-e4c9-4fcb-a5d4-303713569f70",
   "metadata": {},
   "outputs": [],
   "source": [
    "mf.my_multiplication(1,3)"
   ]
  },
  {
   "cell_type": "code",
   "execution_count": null,
   "id": "2d0f4b64-b03f-4bde-879b-5ed1d1f26bcc",
   "metadata": {},
   "outputs": [],
   "source": [
    "mf.test(\"hello\")"
   ]
  },
  {
   "cell_type": "code",
   "execution_count": 8,
   "id": "61299c32-e73b-46ca-bd29-292e54b044a5",
   "metadata": {},
   "outputs": [
    {
     "data": {
      "text/plain": [
       "30"
      ]
     },
     "execution_count": 8,
     "metadata": {},
     "output_type": "execute_result"
    }
   ],
   "source": [
    "mf.test2(1,2)"
   ]
  },
  {
   "cell_type": "code",
   "execution_count": null,
   "id": "3a86ebbb-22ef-4bf1-afde-6ff3055c4999",
   "metadata": {},
   "outputs": [],
   "source": []
  }
 ],
 "metadata": {
  "kernelspec": {
   "display_name": "Python 3 (ipykernel)",
   "language": "python",
   "name": "python3"
  },
  "language_info": {
   "codemirror_mode": {
    "name": "ipython",
    "version": 3
   },
   "file_extension": ".py",
   "mimetype": "text/x-python",
   "name": "python",
   "nbconvert_exporter": "python",
   "pygments_lexer": "ipython3",
   "version": "3.11.7"
  }
 },
 "nbformat": 4,
 "nbformat_minor": 5
}
